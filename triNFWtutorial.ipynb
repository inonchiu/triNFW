{
 "cells": [
  {
   "cell_type": "code",
   "execution_count": 1,
   "metadata": {},
   "outputs": [],
   "source": [
    "# importing\n",
    "import numpy as np\n",
    "from math import *\n",
    "import matplotlib.pyplot as pyplt\n",
    "from matplotlib.colors import LogNorm\n",
    "# cosmology stuff.\n",
    "# If you dont have cosmolopy installed, run:\n",
    "# git install cosmolopy \n",
    "import cosmolopy.distance as cosdist\n",
    "# triaxial NFW\n",
    "from triNFW import triNFW"
   ]
  },
  {
   "cell_type": "code",
   "execution_count": 2,
   "metadata": {},
   "outputs": [],
   "source": [
    "# set up the cosmology in cosmolopy\n",
    "cosmo       = {'omega_M_0' : 0.27, 'omega_lambda_0' : 0.73, 'h' : 1.0}\n",
    "cosmo       = cosdist.set_omega_k_0(cosmo)\n"
   ]
  },
  {
   "cell_type": "code",
   "execution_count": 3,
   "metadata": {},
   "outputs": [],
   "source": [
    "# construct a triNFW object\n",
    "mass      = 1E14   # Msun/h, since h = 1\n",
    "concen    = 3.0    # concentration\n",
    "zd        = 0.4    # cluster redshift\n",
    "overden   = 500.0  # 500 times of `wrt`. If overden < 0.0, then it is caluclated as virial density\n",
    "wrt       = \"crit\" # overdensity type: crit or mean\n",
    "qa        = 0.5    # the axis ratio, 0 < aq := a/c <= qb := b/c <= 1.\n",
    "qb        = 0.8    # the axis ratio, 0 < aq := a/c <= qb := b/c <= 1.\n",
    "theta     = pi/7.  # First Euler angle\n",
    "phi       = pi/9.  # Secon Euler angle\n",
    "psi       = pi/3. # Third Euler angle\n",
    "\n",
    "# construct this halo\n",
    "halo  = triNFW.pNFW(mass    = mass,\n",
    "                    concen  = concen,\n",
    "                    zd      = zd,\n",
    "                    overden = overden,\n",
    "                    wrt     = wrt,\n",
    "                    qa      = qa,\n",
    "                    qb      = qb,\n",
    "                    theta   = theta,\n",
    "                    phi     = phi,\n",
    "                    psi     = psi,\n",
    "                    cosmo   = cosmo)\n",
    "    "
   ]
  },
  {
   "cell_type": "code",
   "execution_count": 4,
   "metadata": {},
   "outputs": [
    {
     "name": "stderr",
     "output_type": "stream",
     "text": [
      "/Users/inchiu/miniconda3/envs/py2/lib/python2.7/site-packages/triNFW/triNFW.py:216: RuntimeWarning: invalid value encountered in sqrt\n",
      "  case_smaller_than_one   =   1.0 / (1.0 - X**2) * ( -1.0 + 2.0/np.sqrt(1.0-X**2) * np.arctanh( np.sqrt((1.0 - X)/(1.0 + X)) ) )\n",
      "/Users/inchiu/miniconda3/envs/py2/lib/python2.7/site-packages/triNFW/triNFW.py:217: RuntimeWarning: invalid value encountered in sqrt\n",
      "  case_larger_than_one    =   1.0 / (X**2 - 1.0) * (  1.0 - 2.0/np.sqrt(X**2-1.0) * np.arctan(  np.sqrt((X - 1.0)/(1.0 + X)) ) )\n"
     ]
    },
    {
     "data": {
      "text/plain": [
       "Text(0,0.5,'Sigma')"
      ]
     },
     "execution_count": 4,
     "metadata": {},
     "output_type": "execute_result"
    },
    {
     "data": {
      "image/png": "[encoded data removed]",
      "text/plain": [
       "<Figure size 432x288 with 1 Axes>"
      ]
     },
     "metadata": {
      "needs_background": "light"
     },
     "output_type": "display_data"
    }
   ],
   "source": [
    "# two methods can be used in the object\n",
    "\n",
    "# first is to calc equation 36 in Umetsu+15\n",
    "zeta       = 10.0**np.linspace(log10(0.05), log10(10.0), 100)\n",
    "sigma      = halo.Sigma(zeta = zeta) # unit should be Msun/Mpc**2. Since h = 1, so it is equal to Msun/h/(Mpc/h)**2\n",
    "# plot\n",
    "pyplt.plot(zeta, sigma)\n",
    "pyplt.loglog()\n",
    "pyplt.xlabel(\"zeta\")\n",
    "pyplt.ylabel(\"Sigma\")\n"
   ]
  },
  {
   "cell_type": "code",
   "execution_count": 5,
   "metadata": {},
   "outputs": [
    {
     "name": "stderr",
     "output_type": "stream",
     "text": [
      "/Users/inchiu/miniconda3/envs/py2/lib/python2.7/site-packages/triNFW/triNFW.py:216: RuntimeWarning: divide by zero encountered in arctanh\n",
      "  case_smaller_than_one   =   1.0 / (1.0 - X**2) * ( -1.0 + 2.0/np.sqrt(1.0-X**2) * np.arctanh( np.sqrt((1.0 - X)/(1.0 + X)) ) )\n"
     ]
    },
    {
     "data": {
      "text/plain": [
       "Text(0,0.5,'y [Mpc/h]')"
      ]
     },
     "execution_count": 5,
     "metadata": {},
     "output_type": "execute_result"
    },
    {
     "data": {
      "image/png": "[encoded data removed]",
      "text/plain": [
       "<Figure size 432x288 with 1 Axes>"
      ]
     },
     "metadata": {
      "needs_background": "light"
     },
     "output_type": "display_data"
    }
   ],
   "source": [
    "# Second is to calculate the projected map\n",
    "\n",
    "# make coordinates\n",
    "xmpc_edges        = np.linspace(-3.0, 3.0, 100) # Mpc/h\n",
    "ympc_edges        = np.linspace(-3.0, 3.0, 100) # Mpc/h\n",
    "xmpc_bins         = 0.5 * (xmpc_edges[1:] + xmpc_edges[:-1])\n",
    "ympc_bins         = 0.5 * (ympc_edges[1:] + ympc_edges[:-1])\n",
    "xmpc_mesh, ympc_mesh  =  np.meshgrid(xmpc_bins, ympc_bins)\n",
    "\n",
    "# mapping\n",
    "map_is            = halo.Sigma_XY(XX = xmpc_mesh, YY = ympc_mesh) # ordering is (ny, nx)\n",
    "\n",
    "# plotting\n",
    "pyplt.imshow(map_is[::-1], \n",
    "             interpolation = \"nearest\", \n",
    "             norm = LogNorm(vmin=1E12, vmax=1E16), \n",
    "             extent = [xmpc_edges[0], xmpc_edges[-1], ympc_edges[0], ympc_edges[-1]]\n",
    "            )\n",
    "pyplt.xlabel(\"x [Mpc/h]\")\n",
    "pyplt.ylabel(\"y [Mpc/h]\")"
   ]
  },
  {
   "cell_type": "code",
   "execution_count": null,
   "metadata": {},
   "outputs": [],
   "source": []
  }
 ],
 "metadata": {
  "kernelspec": {
   "display_name": "Python 2",
   "language": "python",
   "name": "python2"
  },
  "language_info": {
   "codemirror_mode": {
    "name": "ipython",
    "version": 2
   },
   "file_extension": ".py",
   "mimetype": "text/x-python",
   "name": "python",
   "nbconvert_exporter": "python",
   "pygments_lexer": "ipython2",
   "version": "2.7.16"
  }
 },
 "nbformat": 4,
 "nbformat_minor": 2
}
